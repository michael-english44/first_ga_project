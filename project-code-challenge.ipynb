{
 "cells": [
  {
   "cell_type": "markdown",
   "metadata": {},
   "source": [
    "<img src=\"http://imgur.com/1ZcRyrc.png\" style=\"float: left; margin: 20px; height: 55px\">\n",
    "\n",
    "# Project 1: Python Coding Exercises\n",
    "\n",
    "_Authors: Joseph Nelson (DC) _\n",
    "\n",
    "---"
   ]
  },
  {
   "cell_type": "markdown",
   "metadata": {},
   "source": [
    "The following code challenges are drawn from common exercises used in technical interviews.\n",
    "\n",
    "Please note that there may be several ways to approach each challenge. If you get stuck, try mapping out your approach in pseudocode first. Finally, while solutions to problems like these may be found online, remember that if you copy/paste code that you can't explain, you'll be missing out on the point of the project. The only way to truly learn a new skill is through practice, trial, and error - we can only help you improve by understanding where you are having trouble."
   ]
  },
  {
   "cell_type": "markdown",
   "metadata": {},
   "source": [
    "### Challenge 1: Largest Palindrome\n",
    "A palindromic number reads the same both ways. For example, 1234321 is a palindrome. The largest palindrome made from the product of two two-digit numbers is 9009 = 91 × 99. Find the largest palindrome made from the product of two three-digit numbers. Afterward, write a brief explanation walking through your code's logic in markdown."
   ]
  },
  {
   "cell_type": "code",
   "execution_count": 55,
   "metadata": {},
   "outputs": [],
   "source": [
    "def mulitplier(num1,num2):\n",
    "    result = num1*num2\n",
    "    return result"
   ]
  },
  {
   "cell_type": "code",
   "execution_count": 56,
   "metadata": {
    "scrolled": true
   },
   "outputs": [
    {
     "data": {
      "text/plain": [
       "12"
      ]
     },
     "execution_count": 56,
     "metadata": {},
     "output_type": "execute_result"
    }
   ],
   "source": [
    "mulitplier(3,4)"
   ]
  },
  {
   "cell_type": "code",
   "execution_count": 58,
   "metadata": {},
   "outputs": [],
   "source": [
    "multiplier_result = []"
   ]
  },
  {
   "cell_type": "code",
   "execution_count": 59,
   "metadata": {},
   "outputs": [],
   "source": [
    "for num in multiplier_result:\n",
    "    mulitplier(list1,list2)\n",
    "    "
   ]
  },
  {
   "cell_type": "code",
   "execution_count": 60,
   "metadata": {},
   "outputs": [
    {
     "data": {
      "text/plain": [
       "[]"
      ]
     },
     "execution_count": 60,
     "metadata": {},
     "output_type": "execute_result"
    }
   ],
   "source": [
    "multiplier_result"
   ]
  },
  {
   "cell_type": "code",
   "execution_count": 27,
   "metadata": {},
   "outputs": [],
   "source": [
    "list1 = range(1,1000)\n",
    "list2 = range(1,1000)"
   ]
  },
  {
   "cell_type": "code",
   "execution_count": 52,
   "metadata": {
    "scrolled": false
   },
   "outputs": [
    {
     "data": {
      "text/plain": [
       "15"
      ]
     },
     "execution_count": 52,
     "metadata": {},
     "output_type": "execute_result"
    }
   ],
   "source": [
    "list1[2]* list2[4]"
   ]
  },
  {
   "cell_type": "code",
   "execution_count": 53,
   "metadata": {
    "scrolled": true
   },
   "outputs": [
    {
     "data": {
      "text/plain": [
       "3"
      ]
     },
     "execution_count": 53,
     "metadata": {},
     "output_type": "execute_result"
    }
   ],
   "source": [
    "list1[2]"
   ]
  },
  {
   "cell_type": "code",
   "execution_count": 54,
   "metadata": {
    "scrolled": true
   },
   "outputs": [
    {
     "data": {
      "text/plain": [
       "5"
      ]
     },
     "execution_count": 54,
     "metadata": {},
     "output_type": "execute_result"
    }
   ],
   "source": [
    "list2[4]"
   ]
  },
  {
   "cell_type": "code",
   "execution_count": 101,
   "metadata": {},
   "outputs": [],
   "source": [
    "# Range of all 3-digit numbers\n",
    "numbers = range(100,999)\n",
    "\n",
    "# Containers for all palindromes and operations\n",
    "palindromes = []\n",
    "operations = []\n"
   ]
  },
  {
   "cell_type": "code",
   "execution_count": 102,
   "metadata": {},
   "outputs": [],
   "source": [
    "# Interating over the numbers twice so they're all multiplied by each other\n",
    "for number in numbers:\n",
    "    for n in numbers:\n",
    "        # The product of the numbers\n",
    "        product = n * number\n",
    "        \n",
    "        # Make it a string and compare it with its inverse\n",
    "        # if the result is equal they are a palindrome\n",
    "        if str(product)[::-1] == str(product):\n",
    "            # Append the operation made\n",
    "            operations.append(\"%s * %s\" % (n,number))\n",
    "            # Append the resulting palindrome\n",
    "            palindromes.append(product)"
   ]
  },
  {
   "cell_type": "code",
   "execution_count": 103,
   "metadata": {},
   "outputs": [
    {
     "name": "stdout",
     "output_type": "stream",
     "text": [
      "906609\n",
      "993 * 913\n"
     ]
    }
   ],
   "source": [
    "# Get the biggest palindrome from the list\n",
    "biggest_pal = max(palindromes)\n",
    "\n",
    "# Get the operation that resulted into this palindrome\n",
    "# based on its index\n",
    "operation = operations[palindromes.index(biggest_pal)]\n",
    "\n",
    "print(biggest_pal)\n",
    "print(operation)"
   ]
  },
  {
   "cell_type": "code",
   "execution_count": null,
   "metadata": {},
   "outputs": [],
   "source": []
  },
  {
   "cell_type": "code",
   "execution_count": null,
   "metadata": {},
   "outputs": [],
   "source": []
  },
  {
   "cell_type": "code",
   "execution_count": null,
   "metadata": {},
   "outputs": [],
   "source": []
  },
  {
   "cell_type": "markdown",
   "metadata": {},
   "source": [
    "\n",
    "### Challenge 2: Summation of Primes\n",
    "The sum of the primes below 10 is 2 + 3 + 5 + 7 = 17. Find the sum of all the primes below 2,000. Afterward, write a brief explanation walking through your code's logic in markdown."
   ]
  },
  {
   "cell_type": "code",
   "execution_count": 117,
   "metadata": {
    "scrolled": true
   },
   "outputs": [
    {
     "ename": "SyntaxError",
     "evalue": "invalid syntax (<ipython-input-117-bcdec90699b2>, line 3)",
     "output_type": "error",
     "traceback": [
      "\u001b[0;36m  File \u001b[0;32m\"<ipython-input-117-bcdec90699b2>\"\u001b[0;36m, line \u001b[0;32m3\u001b[0m\n\u001b[0;31m    if all(i % x !=0 for x in prime_numbers)\u001b[0m\n\u001b[0m                                            ^\u001b[0m\n\u001b[0;31mSyntaxError\u001b[0m\u001b[0;31m:\u001b[0m invalid syntax\n"
     ]
    }
   ],
   "source": [
    "prime_numbers = []\n",
    "for i in range(1,2001):\n",
    "    if all(i % x !=0 for x in prime_numbers)\n",
    "        prime_numbers.append(i)\n",
    "        \n",
    "#low_primenumbers = [2,3,5,7]\n",
    "\n",
    "#allprime_numbers = low_primenumbers + prime_numbers\n",
    "\n",
    "print(sum(allprime_numbers))"
   ]
  },
  {
   "cell_type": "code",
   "execution_count": 116,
   "metadata": {},
   "outputs": [
    {
     "data": {
      "text/plain": [
       "461"
      ]
     },
     "execution_count": 116,
     "metadata": {},
     "output_type": "execute_result"
    }
   ],
   "source": [
    "len(allprime_numbers)"
   ]
  },
  {
   "cell_type": "code",
   "execution_count": null,
   "metadata": {},
   "outputs": [],
   "source": []
  },
  {
   "cell_type": "code",
   "execution_count": 115,
   "metadata": {},
   "outputs": [
    {
     "data": {
      "text/plain": [
       "[2,\n",
       " 3,\n",
       " 5,\n",
       " 7,\n",
       " 11,\n",
       " 13,\n",
       " 17,\n",
       " 19,\n",
       " 23,\n",
       " 29,\n",
       " 31,\n",
       " 37,\n",
       " 41,\n",
       " 43,\n",
       " 47,\n",
       " 53,\n",
       " 59,\n",
       " 61,\n",
       " 67,\n",
       " 71,\n",
       " 73,\n",
       " 79,\n",
       " 83,\n",
       " 89,\n",
       " 97,\n",
       " 101,\n",
       " 103,\n",
       " 107,\n",
       " 109,\n",
       " 113,\n",
       " 121,\n",
       " 127,\n",
       " 131,\n",
       " 137,\n",
       " 139,\n",
       " 143,\n",
       " 149,\n",
       " 151,\n",
       " 157,\n",
       " 163,\n",
       " 167,\n",
       " 169,\n",
       " 173,\n",
       " 179,\n",
       " 181,\n",
       " 187,\n",
       " 191,\n",
       " 193,\n",
       " 197,\n",
       " 199,\n",
       " 209,\n",
       " 211,\n",
       " 221,\n",
       " 223,\n",
       " 227,\n",
       " 229,\n",
       " 233,\n",
       " 239,\n",
       " 241,\n",
       " 247,\n",
       " 251,\n",
       " 253,\n",
       " 257,\n",
       " 263,\n",
       " 269,\n",
       " 271,\n",
       " 277,\n",
       " 281,\n",
       " 283,\n",
       " 289,\n",
       " 293,\n",
       " 299,\n",
       " 307,\n",
       " 311,\n",
       " 313,\n",
       " 317,\n",
       " 319,\n",
       " 323,\n",
       " 331,\n",
       " 337,\n",
       " 341,\n",
       " 347,\n",
       " 349,\n",
       " 353,\n",
       " 359,\n",
       " 361,\n",
       " 367,\n",
       " 373,\n",
       " 377,\n",
       " 379,\n",
       " 383,\n",
       " 389,\n",
       " 391,\n",
       " 397,\n",
       " 401,\n",
       " 403,\n",
       " 407,\n",
       " 409,\n",
       " 419,\n",
       " 421,\n",
       " 431,\n",
       " 433,\n",
       " 437,\n",
       " 439,\n",
       " 443,\n",
       " 449,\n",
       " 451,\n",
       " 457,\n",
       " 461,\n",
       " 463,\n",
       " 467,\n",
       " 473,\n",
       " 479,\n",
       " 481,\n",
       " 487,\n",
       " 491,\n",
       " 493,\n",
       " 499,\n",
       " 503,\n",
       " 509,\n",
       " 517,\n",
       " 521,\n",
       " 523,\n",
       " 527,\n",
       " 529,\n",
       " 533,\n",
       " 541,\n",
       " 547,\n",
       " 551,\n",
       " 557,\n",
       " 559,\n",
       " 563,\n",
       " 569,\n",
       " 571,\n",
       " 577,\n",
       " 583,\n",
       " 587,\n",
       " 589,\n",
       " 593,\n",
       " 599,\n",
       " 601,\n",
       " 607,\n",
       " 611,\n",
       " 613,\n",
       " 617,\n",
       " 619,\n",
       " 629,\n",
       " 631,\n",
       " 641,\n",
       " 643,\n",
       " 647,\n",
       " 649,\n",
       " 653,\n",
       " 659,\n",
       " 661,\n",
       " 667,\n",
       " 671,\n",
       " 673,\n",
       " 677,\n",
       " 683,\n",
       " 689,\n",
       " 691,\n",
       " 697,\n",
       " 701,\n",
       " 703,\n",
       " 709,\n",
       " 713,\n",
       " 719,\n",
       " 727,\n",
       " 731,\n",
       " 733,\n",
       " 737,\n",
       " 739,\n",
       " 743,\n",
       " 751,\n",
       " 757,\n",
       " 761,\n",
       " 767,\n",
       " 769,\n",
       " 773,\n",
       " 779,\n",
       " 781,\n",
       " 787,\n",
       " 793,\n",
       " 797,\n",
       " 799,\n",
       " 803,\n",
       " 809,\n",
       " 811,\n",
       " 817,\n",
       " 821,\n",
       " 823,\n",
       " 827,\n",
       " 829,\n",
       " 839,\n",
       " 841,\n",
       " 851,\n",
       " 853,\n",
       " 857,\n",
       " 859,\n",
       " 863,\n",
       " 869,\n",
       " 871,\n",
       " 877,\n",
       " 881,\n",
       " 883,\n",
       " 887,\n",
       " 893,\n",
       " 899,\n",
       " 901,\n",
       " 907,\n",
       " 911,\n",
       " 913,\n",
       " 919,\n",
       " 923,\n",
       " 929,\n",
       " 937,\n",
       " 941,\n",
       " 943,\n",
       " 947,\n",
       " 949,\n",
       " 953,\n",
       " 961,\n",
       " 967,\n",
       " 971,\n",
       " 977,\n",
       " 979,\n",
       " 983,\n",
       " 989,\n",
       " 991,\n",
       " 997,\n",
       " 1003,\n",
       " 1007,\n",
       " 1009,\n",
       " 1013,\n",
       " 1019,\n",
       " 1021,\n",
       " 1027,\n",
       " 1031,\n",
       " 1033,\n",
       " 1037,\n",
       " 1039,\n",
       " 1049,\n",
       " 1051,\n",
       " 1061,\n",
       " 1063,\n",
       " 1067,\n",
       " 1069,\n",
       " 1073,\n",
       " 1079,\n",
       " 1081,\n",
       " 1087,\n",
       " 1091,\n",
       " 1093,\n",
       " 1097,\n",
       " 1103,\n",
       " 1109,\n",
       " 1111,\n",
       " 1117,\n",
       " 1121,\n",
       " 1123,\n",
       " 1129,\n",
       " 1133,\n",
       " 1139,\n",
       " 1147,\n",
       " 1151,\n",
       " 1153,\n",
       " 1157,\n",
       " 1159,\n",
       " 1163,\n",
       " 1171,\n",
       " 1177,\n",
       " 1181,\n",
       " 1187,\n",
       " 1189,\n",
       " 1193,\n",
       " 1199,\n",
       " 1201,\n",
       " 1207,\n",
       " 1213,\n",
       " 1217,\n",
       " 1219,\n",
       " 1223,\n",
       " 1229,\n",
       " 1231,\n",
       " 1237,\n",
       " 1241,\n",
       " 1243,\n",
       " 1247,\n",
       " 1249,\n",
       " 1259,\n",
       " 1261,\n",
       " 1271,\n",
       " 1273,\n",
       " 1277,\n",
       " 1279,\n",
       " 1283,\n",
       " 1289,\n",
       " 1291,\n",
       " 1297,\n",
       " 1301,\n",
       " 1303,\n",
       " 1307,\n",
       " 1313,\n",
       " 1319,\n",
       " 1321,\n",
       " 1327,\n",
       " 1331,\n",
       " 1333,\n",
       " 1339,\n",
       " 1343,\n",
       " 1349,\n",
       " 1357,\n",
       " 1361,\n",
       " 1363,\n",
       " 1367,\n",
       " 1369,\n",
       " 1373,\n",
       " 1381,\n",
       " 1387,\n",
       " 1391,\n",
       " 1397,\n",
       " 1399,\n",
       " 1403,\n",
       " 1409,\n",
       " 1411,\n",
       " 1417,\n",
       " 1423,\n",
       " 1427,\n",
       " 1429,\n",
       " 1433,\n",
       " 1439,\n",
       " 1441,\n",
       " 1447,\n",
       " 1451,\n",
       " 1453,\n",
       " 1457,\n",
       " 1459,\n",
       " 1469,\n",
       " 1471,\n",
       " 1481,\n",
       " 1483,\n",
       " 1487,\n",
       " 1489,\n",
       " 1493,\n",
       " 1499,\n",
       " 1501,\n",
       " 1507,\n",
       " 1511,\n",
       " 1513,\n",
       " 1517,\n",
       " 1523,\n",
       " 1529,\n",
       " 1531,\n",
       " 1537,\n",
       " 1541,\n",
       " 1543,\n",
       " 1549,\n",
       " 1553,\n",
       " 1559,\n",
       " 1567,\n",
       " 1571,\n",
       " 1573,\n",
       " 1577,\n",
       " 1579,\n",
       " 1583,\n",
       " 1591,\n",
       " 1597,\n",
       " 1601,\n",
       " 1607,\n",
       " 1609,\n",
       " 1613,\n",
       " 1619,\n",
       " 1621,\n",
       " 1627,\n",
       " 1633,\n",
       " 1637,\n",
       " 1639,\n",
       " 1643,\n",
       " 1649,\n",
       " 1651,\n",
       " 1657,\n",
       " 1661,\n",
       " 1663,\n",
       " 1667,\n",
       " 1669,\n",
       " 1679,\n",
       " 1681,\n",
       " 1691,\n",
       " 1693,\n",
       " 1697,\n",
       " 1699,\n",
       " 1703,\n",
       " 1709,\n",
       " 1711,\n",
       " 1717,\n",
       " 1721,\n",
       " 1723,\n",
       " 1727,\n",
       " 1733,\n",
       " 1739,\n",
       " 1741,\n",
       " 1747,\n",
       " 1751,\n",
       " 1753,\n",
       " 1759,\n",
       " 1763,\n",
       " 1769,\n",
       " 1777,\n",
       " 1781,\n",
       " 1783,\n",
       " 1787,\n",
       " 1789,\n",
       " 1793,\n",
       " 1801,\n",
       " 1807,\n",
       " 1811,\n",
       " 1817,\n",
       " 1819,\n",
       " 1823,\n",
       " 1829,\n",
       " 1831,\n",
       " 1837,\n",
       " 1843,\n",
       " 1847,\n",
       " 1849,\n",
       " 1853,\n",
       " 1859,\n",
       " 1861,\n",
       " 1867,\n",
       " 1871,\n",
       " 1873,\n",
       " 1877,\n",
       " 1879,\n",
       " 1889,\n",
       " 1891,\n",
       " 1901,\n",
       " 1903,\n",
       " 1907,\n",
       " 1909,\n",
       " 1913,\n",
       " 1919,\n",
       " 1921,\n",
       " 1927,\n",
       " 1931,\n",
       " 1933,\n",
       " 1937,\n",
       " 1943,\n",
       " 1949,\n",
       " 1951,\n",
       " 1957,\n",
       " 1961,\n",
       " 1963,\n",
       " 1969,\n",
       " 1973,\n",
       " 1979,\n",
       " 1987,\n",
       " 1991,\n",
       " 1993,\n",
       " 1997,\n",
       " 1999]"
      ]
     },
     "execution_count": 115,
     "metadata": {},
     "output_type": "execute_result"
    }
   ],
   "source": [
    "allprime_numbers"
   ]
  },
  {
   "cell_type": "code",
   "execution_count": 23,
   "metadata": {},
   "outputs": [],
   "source": [
    "allprime_numbers = low_primenumbers + prime_numbers"
   ]
  },
  {
   "cell_type": "code",
   "execution_count": 25,
   "metadata": {},
   "outputs": [
    {
     "data": {
      "text/plain": [
       "458860"
      ]
     },
     "execution_count": 25,
     "metadata": {},
     "output_type": "execute_result"
    }
   ],
   "source": [
    "sum(allprime_numbers)"
   ]
  },
  {
   "cell_type": "code",
   "execution_count": null,
   "metadata": {},
   "outputs": [],
   "source": []
  },
  {
   "cell_type": "markdown",
   "metadata": {},
   "source": [
    "### Challenge 3: Multiples of 3 and 5\n",
    "If we list all of the natural numbers below 10 that are multiples of 3 or 5, we get 3, 5, 6, and 9. The sum of these multiples is 23. Find the sum of all the multiples of 3 and 5 below 1,000. Afterward, write a brief explanation walking through your code's logic in markdown."
   ]
  },
  {
   "cell_type": "code",
   "execution_count": 118,
   "metadata": {},
   "outputs": [],
   "source": [
    "multiple_list = []\n",
    "for i in range(1,1000):\n",
    "    if i % 3 ==0 or i % 5 == 0:\n",
    "        multiple_list.append(i)"
   ]
  },
  {
   "cell_type": "code",
   "execution_count": 119,
   "metadata": {},
   "outputs": [],
   "source": [
    "sum_multiple_list = sum(multiple_list)"
   ]
  },
  {
   "cell_type": "code",
   "execution_count": 120,
   "metadata": {
    "scrolled": true
   },
   "outputs": [
    {
     "data": {
      "text/plain": [
       "233168"
      ]
     },
     "execution_count": 120,
     "metadata": {},
     "output_type": "execute_result"
    }
   ],
   "source": [
    "sum_multiple_list"
   ]
  },
  {
   "cell_type": "code",
   "execution_count": null,
   "metadata": {},
   "outputs": [],
   "source": [
    "## First I created an empty list called multiple_list. Then I created a for loop that iterated through\n",
    "## for every item in the range 1-1000. The loop checked every item in the list and when dividing that element\n",
    "## by 3 and 5 if there was no remainder then it grabbed that item and added it to the empty list. If the element had\n",
    "## a remainder when dividing by 3 or 5 then the iteration continiues and the item wasn't added to the list"
   ]
  },
  {
   "cell_type": "code",
   "execution_count": null,
   "metadata": {},
   "outputs": [],
   "source": []
  },
  {
   "cell_type": "code",
   "execution_count": 121,
   "metadata": {},
   "outputs": [],
   "source": [
    "##Option 2\n",
    "\n",
    "\n",
    "all_multiples = set(range(0,1000,5)).union(set(range(0,1000,3)))"
   ]
  },
  {
   "cell_type": "code",
   "execution_count": 122,
   "metadata": {},
   "outputs": [
    {
     "data": {
      "text/plain": [
       "233168"
      ]
     },
     "execution_count": 122,
     "metadata": {},
     "output_type": "execute_result"
    }
   ],
   "source": [
    "sum(all_multiples)"
   ]
  },
  {
   "cell_type": "code",
   "execution_count": 123,
   "metadata": {},
   "outputs": [
    {
     "data": {
      "text/plain": [
       "[0,\n",
       " 5,\n",
       " 10,\n",
       " 15,\n",
       " 20,\n",
       " 25,\n",
       " 30,\n",
       " 35,\n",
       " 40,\n",
       " 45,\n",
       " 50,\n",
       " 55,\n",
       " 60,\n",
       " 65,\n",
       " 70,\n",
       " 75,\n",
       " 80,\n",
       " 85,\n",
       " 90,\n",
       " 95,\n",
       " 100,\n",
       " 105,\n",
       " 110,\n",
       " 115,\n",
       " 120,\n",
       " 125,\n",
       " 130,\n",
       " 135,\n",
       " 140,\n",
       " 145,\n",
       " 150,\n",
       " 155,\n",
       " 160,\n",
       " 165,\n",
       " 170,\n",
       " 175,\n",
       " 180,\n",
       " 185,\n",
       " 190,\n",
       " 195,\n",
       " 200,\n",
       " 205,\n",
       " 210,\n",
       " 215,\n",
       " 220,\n",
       " 225,\n",
       " 230,\n",
       " 235,\n",
       " 240,\n",
       " 245,\n",
       " 250,\n",
       " 255,\n",
       " 260,\n",
       " 265,\n",
       " 270,\n",
       " 275,\n",
       " 280,\n",
       " 285,\n",
       " 290,\n",
       " 295,\n",
       " 300,\n",
       " 305,\n",
       " 310,\n",
       " 315,\n",
       " 320,\n",
       " 325,\n",
       " 330,\n",
       " 335,\n",
       " 340,\n",
       " 345,\n",
       " 350,\n",
       " 355,\n",
       " 360,\n",
       " 365,\n",
       " 370,\n",
       " 375,\n",
       " 380,\n",
       " 385,\n",
       " 390,\n",
       " 395,\n",
       " 400,\n",
       " 405,\n",
       " 410,\n",
       " 415,\n",
       " 420,\n",
       " 425,\n",
       " 430,\n",
       " 435,\n",
       " 440,\n",
       " 445,\n",
       " 450,\n",
       " 455,\n",
       " 460,\n",
       " 465,\n",
       " 470,\n",
       " 475,\n",
       " 480,\n",
       " 485,\n",
       " 490,\n",
       " 495,\n",
       " 500,\n",
       " 505,\n",
       " 510,\n",
       " 515,\n",
       " 520,\n",
       " 525,\n",
       " 530,\n",
       " 535,\n",
       " 540,\n",
       " 545,\n",
       " 550,\n",
       " 555,\n",
       " 560,\n",
       " 565,\n",
       " 570,\n",
       " 575,\n",
       " 580,\n",
       " 585,\n",
       " 590,\n",
       " 595,\n",
       " 600,\n",
       " 605,\n",
       " 610,\n",
       " 615,\n",
       " 620,\n",
       " 625,\n",
       " 630,\n",
       " 635,\n",
       " 640,\n",
       " 645,\n",
       " 650,\n",
       " 655,\n",
       " 660,\n",
       " 665,\n",
       " 670,\n",
       " 675,\n",
       " 680,\n",
       " 685,\n",
       " 690,\n",
       " 695,\n",
       " 700,\n",
       " 705,\n",
       " 710,\n",
       " 715,\n",
       " 720,\n",
       " 725,\n",
       " 730,\n",
       " 735,\n",
       " 740,\n",
       " 745,\n",
       " 750,\n",
       " 755,\n",
       " 760,\n",
       " 765,\n",
       " 770,\n",
       " 775,\n",
       " 780,\n",
       " 785,\n",
       " 790,\n",
       " 795,\n",
       " 800,\n",
       " 805,\n",
       " 810,\n",
       " 815,\n",
       " 820,\n",
       " 825,\n",
       " 830,\n",
       " 835,\n",
       " 840,\n",
       " 845,\n",
       " 850,\n",
       " 855,\n",
       " 860,\n",
       " 865,\n",
       " 870,\n",
       " 875,\n",
       " 880,\n",
       " 885,\n",
       " 890,\n",
       " 895,\n",
       " 900,\n",
       " 905,\n",
       " 910,\n",
       " 915,\n",
       " 920,\n",
       " 925,\n",
       " 930,\n",
       " 935,\n",
       " 940,\n",
       " 945,\n",
       " 950,\n",
       " 955,\n",
       " 960,\n",
       " 965,\n",
       " 970,\n",
       " 975,\n",
       " 980,\n",
       " 985,\n",
       " 990,\n",
       " 995]"
      ]
     },
     "execution_count": 123,
     "metadata": {},
     "output_type": "execute_result"
    }
   ],
   "source": [
    "range(0,1000,5)"
   ]
  },
  {
   "cell_type": "code",
   "execution_count": null,
   "metadata": {},
   "outputs": [],
   "source": []
  },
  {
   "cell_type": "code",
   "execution_count": null,
   "metadata": {},
   "outputs": [],
   "source": []
  },
  {
   "cell_type": "code",
   "execution_count": null,
   "metadata": {},
   "outputs": [],
   "source": []
  },
  {
   "cell_type": "markdown",
   "metadata": {},
   "source": [
    "### Challenge 4: String Compressor\n",
    "Implement a method to perform basic string compression using the counts of repeated characters. (This is called run-length encoding.) For example, the string \"aabcccccaaa\" would become a2b1c5a3. If the “compressed” string would not become smaller than the original string, your method should return the original string. You can assume the string has only uppercase and lowercase letters (a–z). Specify whether your solution is case sensitive or case insensitive and what you would need to change to make it the other. Afterward, write a brief explanation walking through your code's logic in markdown."
   ]
  },
  {
   "cell_type": "code",
   "execution_count": 91,
   "metadata": {},
   "outputs": [
    {
     "name": "stdout",
     "output_type": "stream",
     "text": [
      "a2b1c6a3\n",
      "c5a7s2t1\n"
     ]
    }
   ],
   "source": [
    "# Create function\n",
    "def string_compressor(word):\n",
    "    # initalize empty items\n",
    "    compressed_word = \"\"\n",
    "    count_letter = \"\"\n",
    "    count = 0\n",
    "    \n",
    "    # Check if each letter matches current count_letter — the one we're checking\n",
    "    for letter in word:\n",
    "        if letter == count_letter:\n",
    "            count += 1\n",
    "        else:\n",
    "            # Count redundancies of a single letters\n",
    "            if count > 0:\n",
    "                compressed_word += count_letter + str(count)\n",
    "            count_letter = letter\n",
    "            count = 1\n",
    "    compressed_word += count_letter + str(count)\n",
    "    \n",
    "    # Return the shorter option — either original word or compressed string\n",
    "    if len(compressed_word) < len(word):\n",
    "        return compressed_word\n",
    "    else:\n",
    "        return word\n",
    "\n",
    "print(string_compressor('aabccccccaaa'))\n",
    "\n",
    "print(string_compressor('cccccaaaaaaasst'))"
   ]
  },
  {
   "cell_type": "code",
   "execution_count": 87,
   "metadata": {},
   "outputs": [],
   "source": [
    "compressed_word = \"\"\n",
    "count_letter = \"\"\n",
    "count = 0"
   ]
  },
  {
   "cell_type": "code",
   "execution_count": 99,
   "metadata": {},
   "outputs": [],
   "source": [
    "word = 'aaddddddddbbbbccc'"
   ]
  },
  {
   "cell_type": "code",
   "execution_count": 100,
   "metadata": {},
   "outputs": [
    {
     "name": "stdout",
     "output_type": "stream",
     "text": [
      "aaddddddddbbbbccc\n"
     ]
    }
   ],
   "source": [
    "for letter in word:\n",
    "    if letter == count_letter:\n",
    "            count += 1\n",
    "    else:\n",
    "        # Count redundancies of a single letters\n",
    "            if count > 0:\n",
    "                compressed_word += count_letter + str(count)\n",
    "            count_letter = letter\n",
    "            count = 1\n",
    "compressed_word += count_letter + str(count)\n",
    "if len(compressed_word) < len(word):\n",
    "    print(compressed_word)\n",
    "else:\n",
    "    print(word)"
   ]
  },
  {
   "cell_type": "code",
   "execution_count": 83,
   "metadata": {},
   "outputs": [
    {
     "ename": "SyntaxError",
     "evalue": "'return' outside function (<ipython-input-83-904a464884bd>, line 19)",
     "output_type": "error",
     "traceback": [
      "\u001b[0;36m  File \u001b[0;32m\"<ipython-input-83-904a464884bd>\"\u001b[0;36m, line \u001b[0;32m19\u001b[0m\n\u001b[0;31m    return compressed_word\u001b[0m\n\u001b[0;31mSyntaxError\u001b[0m\u001b[0;31m:\u001b[0m 'return' outside function\n"
     ]
    }
   ],
   "source": [
    "compressed_word = \"\"\n",
    "count_letter = \"\"\n",
    "count = 0\n",
    "    \n",
    "    # Check if each letter matches current count_letter — the one we're checking\n",
    "for letter in word:\n",
    "        if letter == count_letter:\n",
    "            count += 1\n",
    "        else:\n",
    "            # Count redundancies of a single letters\n",
    "            if count > 0:\n",
    "                compressed_word += count_letter + str(count)\n",
    "            count_letter = letter\n",
    "            count = 1\n",
    "        compressed_word += count_letter + str(count)\n",
    "    \n",
    "    # Return the shorter option — either original word or compressed string\n",
    "        if len(compressed_word) < len(word):\n",
    "            return compressed_word\n",
    "        else:\n",
    "            return word"
   ]
  },
  {
   "cell_type": "code",
   "execution_count": null,
   "metadata": {},
   "outputs": [],
   "source": []
  },
  {
   "cell_type": "code",
   "execution_count": null,
   "metadata": {},
   "outputs": [],
   "source": []
  },
  {
   "cell_type": "code",
   "execution_count": null,
   "metadata": {},
   "outputs": [],
   "source": []
  },
  {
   "cell_type": "code",
   "execution_count": null,
   "metadata": {},
   "outputs": [],
   "source": []
  },
  {
   "cell_type": "code",
   "execution_count": null,
   "metadata": {
    "collapsed": true
   },
   "outputs": [],
   "source": []
  },
  {
   "cell_type": "markdown",
   "metadata": {},
   "source": [
    "### *BONUS* Challenge: FizzBuzz\n",
    "Write a program that prints all of the numbers from 1 to 100. For multiples of 3, instead of the number, print \"Fizz;\" for multiples of 5, print \"Buzz.\" For numbers that are multiples of both 3 and 5, print \"FizzBuzz.\" Afterward, write a brief explanation walking through your code's logic in markdown."
   ]
  },
  {
   "cell_type": "code",
   "execution_count": 44,
   "metadata": {
    "scrolled": false
   },
   "outputs": [
    {
     "name": "stdout",
     "output_type": "stream",
     "text": [
      "1\n",
      "2\n",
      "Fizz\n",
      "4\n",
      "Buzz\n",
      "Fizz\n",
      "7\n",
      "8\n",
      "Fizz\n",
      "Buzz\n",
      "11\n",
      "Fizz\n",
      "13\n",
      "14\n",
      "FizzBuzz\n",
      "16\n",
      "17\n",
      "Fizz\n",
      "19\n",
      "Buzz\n",
      "Fizz\n",
      "22\n",
      "23\n",
      "Fizz\n",
      "Buzz\n",
      "26\n",
      "Fizz\n",
      "28\n",
      "29\n",
      "FizzBuzz\n",
      "31\n",
      "32\n",
      "Fizz\n",
      "34\n",
      "Buzz\n",
      "Fizz\n",
      "37\n",
      "38\n",
      "Fizz\n",
      "Buzz\n",
      "41\n",
      "Fizz\n",
      "43\n",
      "44\n",
      "FizzBuzz\n",
      "46\n",
      "47\n",
      "Fizz\n",
      "49\n",
      "Buzz\n",
      "Fizz\n",
      "52\n",
      "53\n",
      "Fizz\n",
      "Buzz\n",
      "56\n",
      "Fizz\n",
      "58\n",
      "59\n",
      "FizzBuzz\n",
      "61\n",
      "62\n",
      "Fizz\n",
      "64\n",
      "Buzz\n",
      "Fizz\n",
      "67\n",
      "68\n",
      "Fizz\n",
      "Buzz\n",
      "71\n",
      "Fizz\n",
      "73\n",
      "74\n",
      "FizzBuzz\n",
      "76\n",
      "77\n",
      "Fizz\n",
      "79\n",
      "Buzz\n",
      "Fizz\n",
      "82\n",
      "83\n",
      "Fizz\n",
      "Buzz\n",
      "86\n",
      "Fizz\n",
      "88\n",
      "89\n",
      "FizzBuzz\n",
      "91\n",
      "92\n",
      "Fizz\n",
      "94\n",
      "Buzz\n",
      "Fizz\n",
      "97\n",
      "98\n",
      "Fizz\n",
      "Buzz\n"
     ]
    }
   ],
   "source": [
    "for i in range(1,101):\n",
    "    if i % 5 ==0 and i % 3 == 0:\n",
    "        print(\"FizzBuzz\")\n",
    "    elif i % 5 == 0:\n",
    "        print(\"Buzz\")\n",
    "    elif i % 3 == 0:\n",
    "        print(\"Fizz\")\n",
    "    else:\n",
    "        print i"
   ]
  },
  {
   "cell_type": "code",
   "execution_count": null,
   "metadata": {},
   "outputs": [],
   "source": []
  },
  {
   "cell_type": "code",
   "execution_count": null,
   "metadata": {},
   "outputs": [],
   "source": []
  },
  {
   "cell_type": "code",
   "execution_count": null,
   "metadata": {},
   "outputs": [],
   "source": []
  }
 ],
 "metadata": {
  "anaconda-cloud": {},
  "kernelspec": {
   "display_name": "Python 2",
   "language": "python",
   "name": "python2"
  },
  "language_info": {
   "codemirror_mode": {
    "name": "ipython",
    "version": 2
   },
   "file_extension": ".py",
   "mimetype": "text/x-python",
   "name": "python",
   "nbconvert_exporter": "python",
   "pygments_lexer": "ipython2",
   "version": "2.7.15"
  }
 },
 "nbformat": 4,
 "nbformat_minor": 2
}
